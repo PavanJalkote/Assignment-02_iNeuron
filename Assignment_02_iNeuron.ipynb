{
  "nbformat": 4,
  "nbformat_minor": 0,
  "metadata": {
    "colab": {
      "provenance": []
    },
    "kernelspec": {
      "name": "python3",
      "display_name": "Python 3"
    },
    "language_info": {
      "name": "python"
    }
  },
  "cells": [
    {
      "cell_type": "markdown",
      "source": [
        "**1. What are the two values of the Boolean data type? How do you write them?**\n",
        "\n",
        "Ans: The Boolean data type represents a value that can be either true or false. These two values are the only possible outcomes for a Boolean variable. In python they are representaed/written as True and False."
      ],
      "metadata": {
        "id": "aFLRi68uDbr4"
      }
    },
    {
      "cell_type": "markdown",
      "source": [
        "**2. What are the three different types of Boolean operators?**\n",
        "\n",
        "Ans: In Python, there are three different types of Boolean operators: \"and\", \"or\", and \"not\". These operators are used to combine Boolean expressions and perform logical operations.\n",
        "\n",
        "The \"and\" operator returns True if both operands are true; otherwise, it returns False.\n",
        "\n",
        "The \"or\" operator returns True if at least one of the operands is true; otherwise, it returns False.\n",
        "\n",
        "The \"not\" operator is a unary operator that negates the Boolean value of its operand. If the operand is True, the \"not\" operator returns False, and vice versa."
      ],
      "metadata": {
        "id": "1d_tSuuaEcVz"
      }
    },
    {
      "cell_type": "markdown",
      "source": [
        "**3. Make a list of each Boolean operator's truth tables (i.e., every possible combination of Boolean values for the operator and what it evaluates).**\n",
        "\n",
        "Ans:\n",
        "1. and\" Operator Truth Table:\n",
        "\n",
        "Operand 1|Operand 2|Result\n",
        "\n",
        "True|True|True\n",
        "\n",
        "True|False|False\n",
        "\n",
        "False|True|False\n",
        "\n",
        "False|False|False\n",
        "\n",
        "2. \"or\" Operator Truth Table:\n",
        "\n",
        "Operand 1|Operand 2|Result\n",
        "\n",
        "True|True|True\n",
        "\n",
        "True|False|True\n",
        "\n",
        "False|True|True\n",
        "\n",
        "False|False|False\n",
        "\n",
        "3. \"not\" Operator Truth Table:\n",
        "\n",
        "Operand|Result\n",
        "\n",
        "True|False\n",
        "\n",
        "False|True"
      ],
      "metadata": {
        "id": "jvlTElu-IzPb"
      }
    },
    {
      "cell_type": "markdown",
      "source": [
        "**4. What are the values of the following expressions?**\n",
        "\n",
        "Ans:\n",
        "1. (5 > 4) and (3 == 5)\n",
        "\n",
        "(5 > 4) evaluates to True.\n",
        "\n",
        "(3 == 5) evaluates to False.\n",
        "\n",
        "True and False evaluates to False.\n",
        "\n",
        "2. not (5 > 4)\n",
        "\n",
        "(5 > 4) evaluates to True.\n",
        "\n",
        "The not operator negates the Boolean value, so not True evaluates to False.\n",
        "\n",
        "3. (5 > 4) or (3 == 5)\n",
        "\n",
        "(5 > 4) evaluates to True.\n",
        "\n",
        "(3 == 5) evaluates to False.\n",
        "\n",
        "True or False evaluates to True.\n",
        "\n",
        "4. not ((5 > 4) or (3 == 5))\n",
        "\n",
        "(5 > 4) evaluates to True.\n",
        "\n",
        "(3 == 5) evaluates to False.\n",
        "\n",
        "True or False evaluates to True.\n",
        "\n",
        "The not operator negates the Boolean value, so not True evaluates to False.\n",
        "\n",
        "5. (True and True) and (True == False)\n",
        "\n",
        "True and True evaluates to True.\n",
        "\n",
        "True == False evaluates to False.\n",
        "\n",
        "True and False evaluates to False.\n",
        "\n",
        "5. (not False) or (not True)\n",
        "\n",
        "not False evaluates to True.\n",
        "\n",
        "not True evaluates to False.\n",
        "\n",
        "True or False evaluates to True"
      ],
      "metadata": {
        "id": "WL5uiCVAK6sl"
      }
    },
    {
      "cell_type": "markdown",
      "source": [
        "**5. What are the six comparison operators?**\n",
        "\n",
        "Ans:\n",
        "\n",
        "Equal to (==): It checks if the values of two operands are equal.\n",
        "Example: 3 == 5 evaluates to False.\n",
        "\n",
        "Not equal to (!=): It checks if the values of two operands are not equal.\n",
        "Example: 3 != 5 evaluates to True.\n",
        "\n",
        "Greater than (>): It checks if the left operand is greater than the right operand.\n",
        "Example: 5 > 3 evaluates to True.\n",
        "\n",
        "Less than (<): It checks if the left operand is less than the right operand.\n",
        "Example: 3 < 5 evaluates to True.\n",
        "\n",
        "Greater than or equal to (>=): It checks if the left operand is greater than or equal to the right operand.\n",
        "Example: 5 >= 5 evaluates to True.\n",
        "\n",
        "Less than or equal to (<=): It checks if the left operand is less than or equal to the right operand.\n",
        "Example: 3 <= 5 evaluates to True."
      ],
      "metadata": {
        "id": "onzwwd1u-7GL"
      }
    },
    {
      "cell_type": "markdown",
      "source": [
        "**6. How do you tell the difference between the equal to and assignment operators?Describe a condition and when you would use one.**\n",
        "\n",
        "Ans: In Python, the equal to operator (==) is used for comparison, while the assignment operator (=) is used for variable assignment.\n",
        "\n",
        "The equal to operator (==) is used to compare two values and check if they are equal. It returns True if the values are equal and False otherwise. For example, x == y compares the values of x and y and returns True if they are equal.\n",
        "\n",
        "The assignment operator (=) is used to assign a value to a variable. It assigns the value on the right side of the operator to the variable on the left side. For example, x = 5 assigns the value 5 to the variable x.\n",
        "\n",
        "To differentiate between the equal to and assignment operators, consider the context in which they are used."
      ],
      "metadata": {
        "id": "b_PH98ox_f7f"
      }
    },
    {
      "cell_type": "markdown",
      "source": [
        "**7. Identify the three blocks in this code:**\n",
        "\n",
        "spam = 0\n",
        "\n",
        "if spam == 10:\n",
        "\n",
        "print('eggs')\n",
        "\n",
        "if spam > 5:\n",
        "\n",
        "print('bacon')\n",
        "\n",
        "else:\n",
        "\n",
        "print('ham')\n",
        "\n",
        "print('spam')\n",
        "\n",
        "print('spam')\n",
        "\n",
        "Ans:\n",
        "1. Block-1: This block is executed if the condition spam == 10 is true. It consists of a single line of code, print('eggs').\n",
        "\n",
        "2. Block-2: This block is executed if the condition spam > 5 is true. It also consists of a single line of code, print('bacon').\n",
        "\n",
        "3. Block-3: This block is executed if none of the previous conditions are true. It contains two lines of code, print('ham') and print('spam').\n"
      ],
      "metadata": {
        "id": "Y8S8UfJJDKIn"
      }
    },
    {
      "cell_type": "markdown",
      "source": [
        "**8. Write code that prints Hello if 1 is stored in spam, prints Howdy if 2 is stored in spam, and prints Greetings! if anything else is stored in spam.**"
      ],
      "metadata": {
        "id": "bqjTqY2I8E4N"
      }
    },
    {
      "cell_type": "code",
      "source": [
        "spam = int(input(\"Enter the value to be stored in spam: \"))\n",
        "\n",
        "if spam == 1:\n",
        "  print('Hello')\n",
        "elif spam == 2:\n",
        "  print('Howdy')\n",
        "else:\n",
        "  print('Greetings!')\n"
      ],
      "metadata": {
        "colab": {
          "base_uri": "https://localhost:8080/"
        },
        "id": "eAuhz1EZ8L0F",
        "outputId": "5c603b48-1de6-4af7-e572-f926f8b2b42e"
      },
      "execution_count": 5,
      "outputs": [
        {
          "output_type": "stream",
          "name": "stdout",
          "text": [
            "Enter the value to be stored in spam: 3\n",
            "Greetings!\n"
          ]
        }
      ]
    },
    {
      "cell_type": "markdown",
      "source": [
        "**9. If your programme is stuck in an endless loop, what keys you will press?**\n",
        "\n",
        "Ans: If your program is stuck in an endless loop in Python, you can interrupt the execution by pressing the keyboard combination Ctrl + C. This key combination generates a KeyboardInterrupt exception, which causes the program to halt immediately.\n",
        "\n",
        "Additionally, if you are running Python code in an interactive environment such as the Python shell or Jupyter Notebook, you may also have the option to stop the execution using the \"Stop\" or \"Interrupt\" button provided by the environment."
      ],
      "metadata": {
        "id": "5PMrYJXN9Lon"
      }
    },
    {
      "cell_type": "markdown",
      "source": [
        "**10. How can you tell the difference between break and continue?**\n",
        "\n",
        "Ans: In Python, break and continue are two keywords used within loops to control the flow of the program. While they may seem similar, there are important differences between them:\n",
        "\n",
        "1. break:\n",
        "\n",
        "When encountered within a loop (e.g., for or while), the break statement immediately terminates the loop and transfers control to the next statement after the loop.\n",
        "\n",
        "It is typically used to exit a loop prematurely based on a certain condition.\n",
        "\n",
        "After encountering a break statement, the program will not execute any remaining iterations of the loop.\n",
        "\n",
        "2. continue:\n",
        "\n",
        "When encountered within a loop, the continue statement skips the rest of the current iteration and proceeds to the next iteration of the loop.\n",
        "\n",
        "It is typically used to bypass specific iterations based on a certain condition, without terminating the loop entirely.\n",
        "\n",
        "After encountering a continue statement, the program jumps back to the top of the loop and continues with the next iteration."
      ],
      "metadata": {
        "id": "l7g3saic9q4E"
      }
    },
    {
      "cell_type": "markdown",
      "source": [
        "**11. In a for loop, what is the difference between range(10), range(0, 10), and range(0, 10, 1)?**\n",
        "\n",
        "Ans:\n",
        "\n",
        "1. range(10):\n",
        "\n",
        "This specifies a range starting from 0 and ending at 10.\n",
        "\n",
        "It generates a sequence of numbers from 0 to 9.\n",
        "\n",
        "2. range(0, 10):\n",
        "\n",
        "This specifies a range starting from 0 and ending at 10, explicitly stating the start and stop values.\n",
        "\n",
        "It generates a sequence of numbers from 0 to 9.\n",
        "\n",
        "3. range(0, 10, 1):\n",
        "\n",
        "This specifies a range starting from 0 and ending at 10, explicitly stating the start, stop, and step values.\n",
        "\n",
        "It generates a sequence of numbers from 0 to 9."
      ],
      "metadata": {
        "id": "DdmSNvu8AVFx"
      }
    },
    {
      "cell_type": "markdown",
      "source": [
        "**12. Write a short program that prints the numbers 1 to 10 using a for loop. Then write an equivalent program that prints the numbers 1 to 10 using a while loop.**"
      ],
      "metadata": {
        "id": "fo2oMqrjBOV6"
      }
    },
    {
      "cell_type": "code",
      "source": [
        "for i in range (0, 11):\n",
        "  print(i)"
      ],
      "metadata": {
        "colab": {
          "base_uri": "https://localhost:8080/"
        },
        "id": "b5KBaXFVBQxq",
        "outputId": "e1f2d28f-1336-4681-dfec-ad351c1bb283"
      },
      "execution_count": 7,
      "outputs": [
        {
          "output_type": "stream",
          "name": "stdout",
          "text": [
            "0\n",
            "1\n",
            "2\n",
            "3\n",
            "4\n",
            "5\n",
            "6\n",
            "7\n",
            "8\n",
            "9\n",
            "10\n"
          ]
        }
      ]
    },
    {
      "cell_type": "code",
      "source": [
        "i = 1\n",
        "while i <= 10:\n",
        "  print(i)\n",
        "  i = i + 1"
      ],
      "metadata": {
        "colab": {
          "base_uri": "https://localhost:8080/"
        },
        "id": "ALpvi0DoBgPy",
        "outputId": "03d70e01-9057-4b4e-a508-e5ba9f1a748c"
      },
      "execution_count": 11,
      "outputs": [
        {
          "output_type": "stream",
          "name": "stdout",
          "text": [
            "1\n",
            "2\n",
            "3\n",
            "4\n",
            "5\n",
            "6\n",
            "7\n",
            "8\n",
            "9\n",
            "10\n"
          ]
        }
      ]
    },
    {
      "cell_type": "markdown",
      "source": [
        "**13. If you had a function named bacon() inside a module named spam, how would you call it after importing spam?**\n",
        "\n",
        "Ans: I would use the following syntax:\n",
        "\n",
        "import spam\n",
        "\n",
        "spam.bacon()\n"
      ],
      "metadata": {
        "id": "gBCFwdGSCFrR"
      }
    }
  ]
}